{
  "nbformat": 4,
  "nbformat_minor": 0,
  "metadata": {
    "colab": {
      "provenance": [],
      "authorship_tag": "ABX9TyMWdaI294BsQXQ/qEqaT41W",
      "include_colab_link": true
    },
    "kernelspec": {
      "name": "python3",
      "display_name": "Python 3"
    },
    "language_info": {
      "name": "python"
    }
  },
  "cells": [
    {
      "cell_type": "markdown",
      "metadata": {
        "id": "view-in-github",
        "colab_type": "text"
      },
      "source": [
        "<a href=\"https://colab.research.google.com/github/solomontessema/Generative-AI-with-Python/blob/main/notebooks/Vector_Databases_with_Pinecone.ipynb\" target=\"_parent\"><img src=\"https://colab.research.google.com/assets/colab-badge.svg\" alt=\"Open In Colab\"/></a>"
      ]
    },
    {
      "cell_type": "code",
      "source": [
        "!pip install pinecone"
      ],
      "metadata": {
        "id": "olnA_XDNblpQ"
      },
      "execution_count": null,
      "outputs": []
    },
    {
      "cell_type": "code",
      "source": [
        "!pip install vec2text"
      ],
      "metadata": {
        "id": "DJsZA0xyislo"
      },
      "execution_count": null,
      "outputs": []
    },
    {
      "cell_type": "code",
      "execution_count": null,
      "metadata": {
        "id": "H2LsoQruewpq"
      },
      "outputs": [],
      "source": [
        "\n",
        "import pinecone\n",
        "import openai\n",
        "from pinecone import Pinecone, ServerlessSpec\n",
        "from dotenv import load_dotenv\n",
        "import os\n",
        "from openai import OpenAI\n",
        "\n",
        "load_dotenv()\n",
        "api_key = os.getenv(\"PINECONE_API_KEY\")\n",
        "openai_api_key = os.getenv(\"OPENAI_API_KEY\")\n",
        "\n",
        "# Create Pinecone client\n",
        "pc = Pinecone(api_key=api_key)\n",
        "\n",
        "# Create index if it doesn't exist\n",
        "if \"my-index\" not in pc.list_indexes().names():\n",
        "    pc.create_index(\n",
        "        name=\"my-index\",\n",
        "        dimension=1536,  # Match your embedding model output\n",
        "        metric=\"cosine\",  # Or 'euclidean', 'dotproduct'\n",
        "        spec=ServerlessSpec(\n",
        "            cloud=\"aws\",  # Or 'gcp'\n",
        "            region=\"us-east-1\"\n",
        "        )\n",
        "    )\n",
        "\n",
        "# Connect to index\n",
        "index = pc.Index(\"my-index\")\n",
        "client = OpenAI(api_key=openai_api_key)\n",
        "\n",
        "# Embed text using OpenAI\n",
        "def embed(text):\n",
        "    response = client.embeddings.create(\n",
        "        input=[text],\n",
        "        model=\"text-embedding-ada-002\"\n",
        "    )\n",
        "    return response.data[0].embedding\n",
        "\n",
        "# Upsert vector\n",
        "index.upsert([\n",
        "    (\"concept1\", embed(\"The theory of relativity and its implications\"), {\"topic\": \"physics\"}),\n",
        "    (\"concept2\", embed(\"The role of empathy in leadership\"), {\"topic\": \"psychology\"})\n",
        "])\n",
        "\n",
        "# Query\n",
        "query_vector = embed(\"My cat is so cute\")\n",
        "results = index.query(vector=query_vector, top_k=5, include_metadata=True)\n",
        "results\n"
      ]
    },
    {
      "cell_type": "code",
      "source": [],
      "metadata": {
        "colab": {
          "base_uri": "https://localhost:8080/",
          "height": 384
        },
        "id": "W8tpVR3WiXwG",
        "outputId": "d0115b48-80d0-4996-b660-cec78180aeac"
      },
      "execution_count": 25,
      "outputs": [
        {
          "output_type": "error",
          "ename": "AssertionError",
          "evalue": "embedder to invert `text-embedding-bge not in list of supported models: ['text-embedding-ada-002', 'gtr-base']`",
          "traceback": [
            "\u001b[0;31m---------------------------------------------------------------------------\u001b[0m",
            "\u001b[0;31mAssertionError\u001b[0m                            Traceback (most recent call last)",
            "\u001b[0;32m/tmp/ipython-input-3053917420.py\u001b[0m in \u001b[0;36m<cell line: 0>\u001b[0;34m()\u001b[0m\n\u001b[1;32m      1\u001b[0m \u001b[0;32mfrom\u001b[0m \u001b[0mvec2text\u001b[0m \u001b[0;32mimport\u001b[0m \u001b[0mload_pretrained_corrector\u001b[0m\u001b[0;34m,\u001b[0m \u001b[0minvert_embeddings\u001b[0m\u001b[0;34m\u001b[0m\u001b[0;34m\u001b[0m\u001b[0m\n\u001b[0;32m----> 2\u001b[0;31m \u001b[0mcorrector\u001b[0m \u001b[0;34m=\u001b[0m \u001b[0mload_pretrained_corrector\u001b[0m\u001b[0;34m(\u001b[0m\u001b[0;34m\"text-embedding-bge\"\u001b[0m\u001b[0;34m)\u001b[0m\u001b[0;34m\u001b[0m\u001b[0;34m\u001b[0m\u001b[0m\n\u001b[0m\u001b[1;32m      3\u001b[0m \u001b[0;34m\u001b[0m\u001b[0m\n\u001b[1;32m      4\u001b[0m \u001b[0;34m\u001b[0m\u001b[0m\n\u001b[1;32m      5\u001b[0m inverted_text = invert_embeddings(\n",
            "\u001b[0;32m/usr/local/lib/python3.12/dist-packages/vec2text/api.py\u001b[0m in \u001b[0;36mload_pretrained_corrector\u001b[0;34m(embedder)\u001b[0m\n\u001b[1;32m     18\u001b[0m     \"\"\"\n\u001b[1;32m     19\u001b[0m     assert (\n\u001b[0;32m---> 20\u001b[0;31m         \u001b[0membedder\u001b[0m \u001b[0;32min\u001b[0m \u001b[0mSUPPORTED_MODELS\u001b[0m\u001b[0;34m\u001b[0m\u001b[0;34m\u001b[0m\u001b[0m\n\u001b[0m\u001b[1;32m     21\u001b[0m     ), f\"embedder to invert `{embedder} not in list of supported models: {SUPPORTED_MODELS}`\"\n\u001b[1;32m     22\u001b[0m \u001b[0;34m\u001b[0m\u001b[0m\n",
            "\u001b[0;31mAssertionError\u001b[0m: embedder to invert `text-embedding-bge not in list of supported models: ['text-embedding-ada-002', 'gtr-base']`"
          ]
        }
      ]
    }
  ]
}